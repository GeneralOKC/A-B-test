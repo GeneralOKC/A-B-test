{
 "cells": [
  {
   "cell_type": "code",
   "execution_count": 213,
   "id": "bfedb894",
   "metadata": {},
   "outputs": [],
   "source": [
    "import numpy as np\n",
    "import pandas as pd\n",
    "import matplotlib.pyplot as plt\n",
    "import seaborn as sns\n",
    "from scipy.stats import mannwhitneyu, ttest_ind, shapiro, norm"
   ]
  },
  {
   "cell_type": "markdown",
   "id": "aaadbc6f",
   "metadata": {},
   "source": [
    "Загрузим датасет с kaggle для проведения AB теста. Тестируется фича на сайте. <br>\n",
    "Пользователи поделены на две группы:\n",
    "1. control (контроль или A группа). Для пользователей этой группы новая фича не вводилась\n",
    "2. variant (тест или B группа). На этих пользователях тестировалась новая фича. <br>\n",
    "\n",
    "Есть столбцы USER_ID - id пользователя, VARIANT_NAME - группа, в которую попал пользователь, REVENUE - сумма, которую пользователь потратил на покупку на сайте"
   ]
  },
  {
   "cell_type": "code",
   "execution_count": 229,
   "id": "e0b61e4f",
   "metadata": {},
   "outputs": [
    {
     "data": {
      "text/html": [
       "<div>\n",
       "<style scoped>\n",
       "    .dataframe tbody tr th:only-of-type {\n",
       "        vertical-align: middle;\n",
       "    }\n",
       "\n",
       "    .dataframe tbody tr th {\n",
       "        vertical-align: top;\n",
       "    }\n",
       "\n",
       "    .dataframe thead th {\n",
       "        text-align: right;\n",
       "    }\n",
       "</style>\n",
       "<table border=\"1\" class=\"dataframe\">\n",
       "  <thead>\n",
       "    <tr style=\"text-align: right;\">\n",
       "      <th></th>\n",
       "      <th>USER_ID</th>\n",
       "      <th>VARIANT_NAME</th>\n",
       "      <th>REVENUE</th>\n",
       "    </tr>\n",
       "  </thead>\n",
       "  <tbody>\n",
       "    <tr>\n",
       "      <th>0</th>\n",
       "      <td>737</td>\n",
       "      <td>variant</td>\n",
       "      <td>0.0</td>\n",
       "    </tr>\n",
       "    <tr>\n",
       "      <th>1</th>\n",
       "      <td>2423</td>\n",
       "      <td>control</td>\n",
       "      <td>0.0</td>\n",
       "    </tr>\n",
       "    <tr>\n",
       "      <th>2</th>\n",
       "      <td>9411</td>\n",
       "      <td>control</td>\n",
       "      <td>0.0</td>\n",
       "    </tr>\n",
       "    <tr>\n",
       "      <th>3</th>\n",
       "      <td>7311</td>\n",
       "      <td>control</td>\n",
       "      <td>0.0</td>\n",
       "    </tr>\n",
       "    <tr>\n",
       "      <th>4</th>\n",
       "      <td>6174</td>\n",
       "      <td>variant</td>\n",
       "      <td>0.0</td>\n",
       "    </tr>\n",
       "    <tr>\n",
       "      <th>...</th>\n",
       "      <td>...</td>\n",
       "      <td>...</td>\n",
       "      <td>...</td>\n",
       "    </tr>\n",
       "    <tr>\n",
       "      <th>9995</th>\n",
       "      <td>1981</td>\n",
       "      <td>control</td>\n",
       "      <td>0.0</td>\n",
       "    </tr>\n",
       "    <tr>\n",
       "      <th>9996</th>\n",
       "      <td>502</td>\n",
       "      <td>variant</td>\n",
       "      <td>0.0</td>\n",
       "    </tr>\n",
       "    <tr>\n",
       "      <th>9997</th>\n",
       "      <td>9214</td>\n",
       "      <td>variant</td>\n",
       "      <td>0.0</td>\n",
       "    </tr>\n",
       "    <tr>\n",
       "      <th>9998</th>\n",
       "      <td>7741</td>\n",
       "      <td>control</td>\n",
       "      <td>0.0</td>\n",
       "    </tr>\n",
       "    <tr>\n",
       "      <th>9999</th>\n",
       "      <td>9468</td>\n",
       "      <td>control</td>\n",
       "      <td>0.0</td>\n",
       "    </tr>\n",
       "  </tbody>\n",
       "</table>\n",
       "<p>10000 rows × 3 columns</p>\n",
       "</div>"
      ],
      "text/plain": [
       "      USER_ID VARIANT_NAME  REVENUE\n",
       "0         737      variant      0.0\n",
       "1        2423      control      0.0\n",
       "2        9411      control      0.0\n",
       "3        7311      control      0.0\n",
       "4        6174      variant      0.0\n",
       "...       ...          ...      ...\n",
       "9995     1981      control      0.0\n",
       "9996      502      variant      0.0\n",
       "9997     9214      variant      0.0\n",
       "9998     7741      control      0.0\n",
       "9999     9468      control      0.0\n",
       "\n",
       "[10000 rows x 3 columns]"
      ]
     },
     "execution_count": 229,
     "metadata": {},
     "output_type": "execute_result"
    }
   ],
   "source": [
    "path = 'AB_Test_Results.csv'\n",
    "df = pd.read_csv(path)\n",
    "df.head()\n",
    "df"
   ]
  },
  {
   "cell_type": "code",
   "execution_count": 230,
   "id": "ccd5fdb9",
   "metadata": {},
   "outputs": [
    {
     "data": {
      "text/html": [
       "<div>\n",
       "<style scoped>\n",
       "    .dataframe tbody tr th:only-of-type {\n",
       "        vertical-align: middle;\n",
       "    }\n",
       "\n",
       "    .dataframe tbody tr th {\n",
       "        vertical-align: top;\n",
       "    }\n",
       "\n",
       "    .dataframe thead th {\n",
       "        text-align: right;\n",
       "    }\n",
       "</style>\n",
       "<table border=\"1\" class=\"dataframe\">\n",
       "  <thead>\n",
       "    <tr style=\"text-align: right;\">\n",
       "      <th></th>\n",
       "      <th>USER_ID</th>\n",
       "      <th>REVENUE</th>\n",
       "    </tr>\n",
       "  </thead>\n",
       "  <tbody>\n",
       "    <tr>\n",
       "      <th>count</th>\n",
       "      <td>10000.000000</td>\n",
       "      <td>10000.000000</td>\n",
       "    </tr>\n",
       "    <tr>\n",
       "      <th>mean</th>\n",
       "      <td>4981.080200</td>\n",
       "      <td>0.099447</td>\n",
       "    </tr>\n",
       "    <tr>\n",
       "      <th>std</th>\n",
       "      <td>2890.590115</td>\n",
       "      <td>2.318529</td>\n",
       "    </tr>\n",
       "    <tr>\n",
       "      <th>min</th>\n",
       "      <td>2.000000</td>\n",
       "      <td>0.000000</td>\n",
       "    </tr>\n",
       "    <tr>\n",
       "      <th>25%</th>\n",
       "      <td>2468.750000</td>\n",
       "      <td>0.000000</td>\n",
       "    </tr>\n",
       "    <tr>\n",
       "      <th>50%</th>\n",
       "      <td>4962.000000</td>\n",
       "      <td>0.000000</td>\n",
       "    </tr>\n",
       "    <tr>\n",
       "      <th>75%</th>\n",
       "      <td>7511.500000</td>\n",
       "      <td>0.000000</td>\n",
       "    </tr>\n",
       "    <tr>\n",
       "      <th>max</th>\n",
       "      <td>10000.000000</td>\n",
       "      <td>196.010000</td>\n",
       "    </tr>\n",
       "  </tbody>\n",
       "</table>\n",
       "</div>"
      ],
      "text/plain": [
       "            USER_ID       REVENUE\n",
       "count  10000.000000  10000.000000\n",
       "mean    4981.080200      0.099447\n",
       "std     2890.590115      2.318529\n",
       "min        2.000000      0.000000\n",
       "25%     2468.750000      0.000000\n",
       "50%     4962.000000      0.000000\n",
       "75%     7511.500000      0.000000\n",
       "max    10000.000000    196.010000"
      ]
     },
     "execution_count": 230,
     "metadata": {},
     "output_type": "execute_result"
    }
   ],
   "source": [
    "df.describe()"
   ]
  },
  {
   "cell_type": "code",
   "execution_count": 231,
   "id": "65913bd9",
   "metadata": {},
   "outputs": [
    {
     "data": {
      "text/plain": [
       "USER_ID         6324\n",
       "VARIANT_NAME       2\n",
       "REVENUE          101\n",
       "dtype: int64"
      ]
     },
     "execution_count": 231,
     "metadata": {},
     "output_type": "execute_result"
    }
   ],
   "source": [
    "df.nunique()"
   ]
  },
  {
   "cell_type": "markdown",
   "id": "1da5977e",
   "metadata": {},
   "source": [
    "Число уникальных пользователей 6324 не совпадает с общим числом записей в таблице 10000. Значит какие-то пользователи совершали несколько покупок "
   ]
  },
  {
   "cell_type": "markdown",
   "id": "7f8fd7b9",
   "metadata": {},
   "source": [
    "Попробуем посмотреть на разбивку по группам"
   ]
  },
  {
   "cell_type": "code",
   "execution_count": 172,
   "id": "797785d0",
   "metadata": {},
   "outputs": [
    {
     "data": {
      "text/html": [
       "<div>\n",
       "<style scoped>\n",
       "    .dataframe tbody tr th:only-of-type {\n",
       "        vertical-align: middle;\n",
       "    }\n",
       "\n",
       "    .dataframe tbody tr th {\n",
       "        vertical-align: top;\n",
       "    }\n",
       "\n",
       "    .dataframe thead th {\n",
       "        text-align: right;\n",
       "    }\n",
       "</style>\n",
       "<table border=\"1\" class=\"dataframe\">\n",
       "  <thead>\n",
       "    <tr style=\"text-align: right;\">\n",
       "      <th></th>\n",
       "      <th>USER_ID</th>\n",
       "      <th>REVENUE</th>\n",
       "    </tr>\n",
       "    <tr>\n",
       "      <th>VARIANT_NAME</th>\n",
       "      <th></th>\n",
       "      <th></th>\n",
       "    </tr>\n",
       "  </thead>\n",
       "  <tbody>\n",
       "    <tr>\n",
       "      <th>control</th>\n",
       "      <td>4984</td>\n",
       "      <td>4984</td>\n",
       "    </tr>\n",
       "    <tr>\n",
       "      <th>variant</th>\n",
       "      <td>5016</td>\n",
       "      <td>5016</td>\n",
       "    </tr>\n",
       "  </tbody>\n",
       "</table>\n",
       "</div>"
      ],
      "text/plain": [
       "              USER_ID  REVENUE\n",
       "VARIANT_NAME                  \n",
       "control          4984     4984\n",
       "variant          5016     5016"
      ]
     },
     "execution_count": 172,
     "metadata": {},
     "output_type": "execute_result"
    }
   ],
   "source": [
    "group_sizes = df.groupby('VARIANT_NAME').count()\n",
    "group_sizes"
   ]
  },
  {
   "cell_type": "markdown",
   "id": "1bee2e78",
   "metadata": {},
   "source": [
    "Пользователи разбиты по группам примерно поровну"
   ]
  },
  {
   "cell_type": "markdown",
   "id": "d28f0647",
   "metadata": {},
   "source": [
    "Проверим есть ли пользователи, находящиеся в обеих группах"
   ]
  },
  {
   "cell_type": "code",
   "execution_count": 232,
   "id": "6047a367",
   "metadata": {},
   "outputs": [
    {
     "data": {
      "text/plain": [
       "VARIANT_NAME\n",
       "1    4783\n",
       "2    1541\n",
       "Name: count, dtype: int64"
      ]
     },
     "execution_count": 232,
     "metadata": {},
     "output_type": "execute_result"
    }
   ],
   "source": [
    "duplicates = df.groupby('USER_ID')['VARIANT_NAME'].nunique().value_counts()\n",
    "duplicates"
   ]
  },
  {
   "cell_type": "code",
   "execution_count": 175,
   "id": "9037c62c",
   "metadata": {},
   "outputs": [
    {
     "data": {
      "text/plain": [
       "VARIANT_NAME\n",
       "1    0.756325\n",
       "2    0.243675\n",
       "Name: count, dtype: float64"
      ]
     },
     "execution_count": 175,
     "metadata": {},
     "output_type": "execute_result"
    }
   ],
   "source": [
    "duplicates/duplicates.sum()"
   ]
  },
  {
   "cell_type": "markdown",
   "id": "ab662c62",
   "metadata": {},
   "source": [
    "Имеется значительное количество пользователей (около 24%), находящихся в обеих группах. Их надо исключить для проведения AB теста"
   ]
  },
  {
   "cell_type": "code",
   "execution_count": 176,
   "id": "80140b36",
   "metadata": {},
   "outputs": [
    {
     "data": {
      "text/plain": [
       "USER_ID\n",
       "2       True\n",
       "4       True\n",
       "5       True\n",
       "6       True\n",
       "9       True\n",
       "        ... \n",
       "9990    True\n",
       "9992    True\n",
       "9993    True\n",
       "9995    True\n",
       "9998    True\n",
       "Name: VARIANT_NAME, Length: 4783, dtype: bool"
      ]
     },
     "execution_count": 176,
     "metadata": {},
     "output_type": "execute_result"
    }
   ],
   "source": [
    "single_group = (df.groupby('USER_ID')['VARIANT_NAME'].nunique()==1)\n",
    "single_group = single_group[single_group]\n",
    "single_group"
   ]
  },
  {
   "cell_type": "code",
   "execution_count": 177,
   "id": "109d8dd7",
   "metadata": {},
   "outputs": [
    {
     "data": {
      "text/plain": [
       "True"
      ]
     },
     "execution_count": 177,
     "metadata": {},
     "output_type": "execute_result"
    }
   ],
   "source": [
    "df = df[df['USER_ID'].isin(single_group.index)]\n",
    "df.groupby('USER_ID')['VARIANT_NAME'].nunique().value_counts().iloc[0]==duplicates.iloc[0]"
   ]
  },
  {
   "cell_type": "markdown",
   "id": "2492c626",
   "metadata": {},
   "source": [
    "Построим гистограмму распределения выручки по пользователям"
   ]
  },
  {
   "cell_type": "code",
   "execution_count": 178,
   "id": "3d354e5b",
   "metadata": {},
   "outputs": [
    {
     "data": {
      "text/plain": [
       "<matplotlib.legend.Legend at 0x19d5d71fd90>"
      ]
     },
     "execution_count": 178,
     "metadata": {},
     "output_type": "execute_result"
    },
    {
     "data": {
      "image/png": "[encoded data removed]",
      "text/plain": [
       "<Figure size 640x480 with 1 Axes>"
      ]
     },
     "metadata": {},
     "output_type": "display_data"
    }
   ],
   "source": [
    "df_control = df[df['VARIANT_NAME']=='control']['REVENUE']\n",
    "df_test = df[df['VARIANT_NAME']=='variant']['REVENUE']\n",
    "sns.histplot(df_control, kde=True, bins=25, label='control')\n",
    "sns.histplot(df_test, kde=True, bins=25, label='test')\n",
    "plt.legend()"
   ]
  },
  {
   "cell_type": "markdown",
   "id": "d1be27c3",
   "metadata": {},
   "source": [
    "В районе 200 виден выброс"
   ]
  },
  {
   "cell_type": "code",
   "execution_count": 179,
   "id": "1fac42bc",
   "metadata": {},
   "outputs": [
    {
     "data": {
      "text/html": [
       "<div>\n",
       "<style scoped>\n",
       "    .dataframe tbody tr th:only-of-type {\n",
       "        vertical-align: middle;\n",
       "    }\n",
       "\n",
       "    .dataframe tbody tr th {\n",
       "        vertical-align: top;\n",
       "    }\n",
       "\n",
       "    .dataframe thead th {\n",
       "        text-align: right;\n",
       "    }\n",
       "</style>\n",
       "<table border=\"1\" class=\"dataframe\">\n",
       "  <thead>\n",
       "    <tr style=\"text-align: right;\">\n",
       "      <th></th>\n",
       "      <th>USER_ID</th>\n",
       "      <th>VARIANT_NAME</th>\n",
       "      <th>REVENUE</th>\n",
       "    </tr>\n",
       "  </thead>\n",
       "  <tbody>\n",
       "    <tr>\n",
       "      <th>1437</th>\n",
       "      <td>3342</td>\n",
       "      <td>control</td>\n",
       "      <td>196.01</td>\n",
       "    </tr>\n",
       "    <tr>\n",
       "      <th>8168</th>\n",
       "      <td>2166</td>\n",
       "      <td>control</td>\n",
       "      <td>29.32</td>\n",
       "    </tr>\n",
       "    <tr>\n",
       "      <th>2482</th>\n",
       "      <td>7356</td>\n",
       "      <td>variant</td>\n",
       "      <td>23.04</td>\n",
       "    </tr>\n",
       "    <tr>\n",
       "      <th>6412</th>\n",
       "      <td>1053</td>\n",
       "      <td>control</td>\n",
       "      <td>20.07</td>\n",
       "    </tr>\n",
       "    <tr>\n",
       "      <th>5217</th>\n",
       "      <td>3684</td>\n",
       "      <td>variant</td>\n",
       "      <td>19.47</td>\n",
       "    </tr>\n",
       "    <tr>\n",
       "      <th>...</th>\n",
       "      <td>...</td>\n",
       "      <td>...</td>\n",
       "      <td>...</td>\n",
       "    </tr>\n",
       "    <tr>\n",
       "      <th>3366</th>\n",
       "      <td>1189</td>\n",
       "      <td>control</td>\n",
       "      <td>0.00</td>\n",
       "    </tr>\n",
       "    <tr>\n",
       "      <th>3363</th>\n",
       "      <td>2051</td>\n",
       "      <td>variant</td>\n",
       "      <td>0.00</td>\n",
       "    </tr>\n",
       "    <tr>\n",
       "      <th>3362</th>\n",
       "      <td>3276</td>\n",
       "      <td>variant</td>\n",
       "      <td>0.00</td>\n",
       "    </tr>\n",
       "    <tr>\n",
       "      <th>3360</th>\n",
       "      <td>1608</td>\n",
       "      <td>variant</td>\n",
       "      <td>0.00</td>\n",
       "    </tr>\n",
       "    <tr>\n",
       "      <th>9999</th>\n",
       "      <td>9468</td>\n",
       "      <td>control</td>\n",
       "      <td>0.00</td>\n",
       "    </tr>\n",
       "  </tbody>\n",
       "</table>\n",
       "<p>6070 rows × 3 columns</p>\n",
       "</div>"
      ],
      "text/plain": [
       "      USER_ID VARIANT_NAME  REVENUE\n",
       "1437     3342      control   196.01\n",
       "8168     2166      control    29.32\n",
       "2482     7356      variant    23.04\n",
       "6412     1053      control    20.07\n",
       "5217     3684      variant    19.47\n",
       "...       ...          ...      ...\n",
       "3366     1189      control     0.00\n",
       "3363     2051      variant     0.00\n",
       "3362     3276      variant     0.00\n",
       "3360     1608      variant     0.00\n",
       "9999     9468      control     0.00\n",
       "\n",
       "[6070 rows x 3 columns]"
      ]
     },
     "execution_count": 179,
     "metadata": {},
     "output_type": "execute_result"
    }
   ],
   "source": [
    "df.sort_values(by='REVENUE', ascending=False)"
   ]
  },
  {
   "cell_type": "markdown",
   "id": "2c4163d0",
   "metadata": {},
   "source": [
    "Уберем пользователя с USER_ID 3342"
   ]
  },
  {
   "cell_type": "code",
   "execution_count": 180,
   "id": "1ac0eeca",
   "metadata": {},
   "outputs": [
    {
     "data": {
      "text/html": [
       "<div>\n",
       "<style scoped>\n",
       "    .dataframe tbody tr th:only-of-type {\n",
       "        vertical-align: middle;\n",
       "    }\n",
       "\n",
       "    .dataframe tbody tr th {\n",
       "        vertical-align: top;\n",
       "    }\n",
       "\n",
       "    .dataframe thead th {\n",
       "        text-align: right;\n",
       "    }\n",
       "</style>\n",
       "<table border=\"1\" class=\"dataframe\">\n",
       "  <thead>\n",
       "    <tr style=\"text-align: right;\">\n",
       "      <th></th>\n",
       "      <th>USER_ID</th>\n",
       "      <th>VARIANT_NAME</th>\n",
       "      <th>REVENUE</th>\n",
       "    </tr>\n",
       "  </thead>\n",
       "  <tbody>\n",
       "    <tr>\n",
       "      <th>1437</th>\n",
       "      <td>3342</td>\n",
       "      <td>control</td>\n",
       "      <td>196.01</td>\n",
       "    </tr>\n",
       "  </tbody>\n",
       "</table>\n",
       "</div>"
      ],
      "text/plain": [
       "      USER_ID VARIANT_NAME  REVENUE\n",
       "1437     3342      control   196.01"
      ]
     },
     "execution_count": 180,
     "metadata": {},
     "output_type": "execute_result"
    }
   ],
   "source": [
    "df[df['USER_ID'] == 3342]"
   ]
  },
  {
   "cell_type": "code",
   "execution_count": 181,
   "id": "dc34b192",
   "metadata": {},
   "outputs": [
    {
     "name": "stdout",
     "output_type": "stream",
     "text": [
      "USER_ID         5973\n",
      "VARIANT_NAME    5973\n",
      "REVENUE         5973\n",
      "dtype: int64\n",
      "\n",
      "USER_ID         96\n",
      "VARIANT_NAME    96\n",
      "REVENUE         96\n",
      "dtype: int64\n"
     ]
    }
   ],
   "source": [
    "df = df[df['USER_ID'] != 3342]\n",
    "print(df[df['REVENUE']==0].count())\n",
    "print()\n",
    "print(df[df['REVENUE']!=0].count())"
   ]
  },
  {
   "cell_type": "markdown",
   "id": "2bde1057",
   "metadata": {},
   "source": [
    "Посмотрим есть ли пользователи, у которых есть посещение сайта как без покупок (REVENUE=0), так и с покупками (REVENUE != 0)"
   ]
  },
  {
   "cell_type": "code",
   "execution_count": 182,
   "id": "8e37a4da",
   "metadata": {},
   "outputs": [
    {
     "data": {
      "text/plain": [
       "52"
      ]
     },
     "execution_count": 182,
     "metadata": {},
     "output_type": "execute_result"
    }
   ],
   "source": [
    "df.loc[(df['REVENUE']==0) & (df['USER_ID'].isin(df.loc[df['REVENUE']!=0, 'USER_ID'].values)), 'USER_ID'].count()"
   ]
  },
  {
   "cell_type": "markdown",
   "id": "8fdfa108",
   "metadata": {},
   "source": [
    "Предположим, что число упоминаний одного и того же пользователя это количество просмотров на сайте, а REVENUE имеет ненулевое значение, если пользователь что-то купил."
   ]
  },
  {
   "cell_type": "code",
   "execution_count": 183,
   "id": "4d66f040",
   "metadata": {},
   "outputs": [
    {
     "data": {
      "text/html": [
       "<div>\n",
       "<style scoped>\n",
       "    .dataframe tbody tr th:only-of-type {\n",
       "        vertical-align: middle;\n",
       "    }\n",
       "\n",
       "    .dataframe tbody tr th {\n",
       "        vertical-align: top;\n",
       "    }\n",
       "\n",
       "    .dataframe thead th {\n",
       "        text-align: right;\n",
       "    }\n",
       "</style>\n",
       "<table border=\"1\" class=\"dataframe\">\n",
       "  <thead>\n",
       "    <tr style=\"text-align: right;\">\n",
       "      <th></th>\n",
       "      <th>USER_ID</th>\n",
       "      <th>VARIANT_NAME</th>\n",
       "      <th>REVENUE</th>\n",
       "    </tr>\n",
       "  </thead>\n",
       "  <tbody>\n",
       "    <tr>\n",
       "      <th>0</th>\n",
       "      <td>2</td>\n",
       "      <td>control</td>\n",
       "      <td>0.0</td>\n",
       "    </tr>\n",
       "    <tr>\n",
       "      <th>1</th>\n",
       "      <td>4</td>\n",
       "      <td>variant</td>\n",
       "      <td>0.0</td>\n",
       "    </tr>\n",
       "    <tr>\n",
       "      <th>2</th>\n",
       "      <td>5</td>\n",
       "      <td>variant</td>\n",
       "      <td>0.0</td>\n",
       "    </tr>\n",
       "    <tr>\n",
       "      <th>3</th>\n",
       "      <td>6</td>\n",
       "      <td>variant</td>\n",
       "      <td>0.0</td>\n",
       "    </tr>\n",
       "    <tr>\n",
       "      <th>4</th>\n",
       "      <td>9</td>\n",
       "      <td>variant</td>\n",
       "      <td>0.0</td>\n",
       "    </tr>\n",
       "    <tr>\n",
       "      <th>...</th>\n",
       "      <td>...</td>\n",
       "      <td>...</td>\n",
       "      <td>...</td>\n",
       "    </tr>\n",
       "    <tr>\n",
       "      <th>4777</th>\n",
       "      <td>9990</td>\n",
       "      <td>variant</td>\n",
       "      <td>0.0</td>\n",
       "    </tr>\n",
       "    <tr>\n",
       "      <th>4778</th>\n",
       "      <td>9992</td>\n",
       "      <td>control</td>\n",
       "      <td>0.0</td>\n",
       "    </tr>\n",
       "    <tr>\n",
       "      <th>4779</th>\n",
       "      <td>9993</td>\n",
       "      <td>control</td>\n",
       "      <td>0.0</td>\n",
       "    </tr>\n",
       "    <tr>\n",
       "      <th>4780</th>\n",
       "      <td>9995</td>\n",
       "      <td>variant</td>\n",
       "      <td>0.0</td>\n",
       "    </tr>\n",
       "    <tr>\n",
       "      <th>4781</th>\n",
       "      <td>9998</td>\n",
       "      <td>control</td>\n",
       "      <td>0.0</td>\n",
       "    </tr>\n",
       "  </tbody>\n",
       "</table>\n",
       "<p>4782 rows × 3 columns</p>\n",
       "</div>"
      ],
      "text/plain": [
       "      USER_ID VARIANT_NAME  REVENUE\n",
       "0           2      control      0.0\n",
       "1           4      variant      0.0\n",
       "2           5      variant      0.0\n",
       "3           6      variant      0.0\n",
       "4           9      variant      0.0\n",
       "...       ...          ...      ...\n",
       "4777     9990      variant      0.0\n",
       "4778     9992      control      0.0\n",
       "4779     9993      control      0.0\n",
       "4780     9995      variant      0.0\n",
       "4781     9998      control      0.0\n",
       "\n",
       "[4782 rows x 3 columns]"
      ]
     },
     "execution_count": 183,
     "metadata": {},
     "output_type": "execute_result"
    }
   ],
   "source": [
    "df = df.groupby(by=['USER_ID', 'VARIANT_NAME']).sum().reset_index()\n",
    "df\n"
   ]
  },
  {
   "cell_type": "markdown",
   "id": "cdc6599e",
   "metadata": {},
   "source": [
    "Посчитаем некоторые полезные для анализа метрики <br>\n",
    "Сначала рассмотрим всех пользователей"
   ]
  },
  {
   "cell_type": "code",
   "execution_count": 184,
   "id": "ec461bc1",
   "metadata": {},
   "outputs": [
    {
     "data": {
      "text/html": [
       "<div>\n",
       "<style scoped>\n",
       "    .dataframe tbody tr th:only-of-type {\n",
       "        vertical-align: middle;\n",
       "    }\n",
       "\n",
       "    .dataframe tbody tr th {\n",
       "        vertical-align: top;\n",
       "    }\n",
       "\n",
       "    .dataframe thead tr th {\n",
       "        text-align: left;\n",
       "    }\n",
       "\n",
       "    .dataframe thead tr:last-of-type th {\n",
       "        text-align: right;\n",
       "    }\n",
       "</style>\n",
       "<table border=\"1\" class=\"dataframe\">\n",
       "  <thead>\n",
       "    <tr>\n",
       "      <th></th>\n",
       "      <th>USER_ID</th>\n",
       "      <th colspan=\"4\" halign=\"left\">REVENUE</th>\n",
       "      <th colspan=\"2\" halign=\"left\">per_user</th>\n",
       "    </tr>\n",
       "    <tr>\n",
       "      <th></th>\n",
       "      <th>nunique</th>\n",
       "      <th>sum</th>\n",
       "      <th>mean</th>\n",
       "      <th>median</th>\n",
       "      <th>count</th>\n",
       "      <th>orders</th>\n",
       "      <th>revenue</th>\n",
       "    </tr>\n",
       "    <tr>\n",
       "      <th>VARIANT_NAME</th>\n",
       "      <th></th>\n",
       "      <th></th>\n",
       "      <th></th>\n",
       "      <th></th>\n",
       "      <th></th>\n",
       "      <th></th>\n",
       "      <th></th>\n",
       "    </tr>\n",
       "  </thead>\n",
       "  <tbody>\n",
       "    <tr>\n",
       "      <th>control</th>\n",
       "      <td>2389</td>\n",
       "      <td>274.55</td>\n",
       "      <td>0.114923</td>\n",
       "      <td>0.0</td>\n",
       "      <td>2389</td>\n",
       "      <td>1.0</td>\n",
       "      <td>0.114923</td>\n",
       "    </tr>\n",
       "    <tr>\n",
       "      <th>variant</th>\n",
       "      <td>2393</td>\n",
       "      <td>179.32</td>\n",
       "      <td>0.074935</td>\n",
       "      <td>0.0</td>\n",
       "      <td>2393</td>\n",
       "      <td>1.0</td>\n",
       "      <td>0.074935</td>\n",
       "    </tr>\n",
       "  </tbody>\n",
       "</table>\n",
       "</div>"
      ],
      "text/plain": [
       "             USER_ID REVENUE                        per_user          \n",
       "             nunique     sum      mean median count   orders   revenue\n",
       "VARIANT_NAME                                                          \n",
       "control         2389  274.55  0.114923    0.0  2389      1.0  0.114923\n",
       "variant         2393  179.32  0.074935    0.0  2393      1.0  0.074935"
      ]
     },
     "execution_count": 184,
     "metadata": {},
     "output_type": "execute_result"
    }
   ],
   "source": [
    "metrics = df.groupby(by='VARIANT_NAME').agg({'USER_ID': 'nunique', 'REVENUE': ['sum', 'mean', 'median', 'count']})\n",
    "orders_per_user = metrics.loc[:, ('REVENUE', 'count')] / metrics.loc[:, ('USER_ID', 'nunique')]\n",
    "revenue_per_user = metrics.loc[:, ('REVENUE', 'sum')] / metrics.loc[:, ('USER_ID', 'nunique')]\n",
    "metrics.loc[:, ('per_user', 'orders')] = orders_per_user\n",
    "metrics.loc[:, ('per_user', 'revenue')] = revenue_per_user\n",
    "metrics"
   ]
  },
  {
   "cell_type": "markdown",
   "id": "da08228c",
   "metadata": {},
   "source": [
    "Выручка на одного пользователя для тестовой группы меньше, чем для контроля"
   ]
  },
  {
   "cell_type": "markdown",
   "id": "16257277",
   "metadata": {},
   "source": [
    "Теперь рассмотрим только пользователей, которые совершали покупки, то есть REVENUE не рано нулю"
   ]
  },
  {
   "cell_type": "code",
   "execution_count": 185,
   "id": "1f79e208",
   "metadata": {},
   "outputs": [
    {
     "data": {
      "text/html": [
       "<div>\n",
       "<style scoped>\n",
       "    .dataframe tbody tr th:only-of-type {\n",
       "        vertical-align: middle;\n",
       "    }\n",
       "\n",
       "    .dataframe tbody tr th {\n",
       "        vertical-align: top;\n",
       "    }\n",
       "\n",
       "    .dataframe thead tr th {\n",
       "        text-align: left;\n",
       "    }\n",
       "\n",
       "    .dataframe thead tr:last-of-type th {\n",
       "        text-align: right;\n",
       "    }\n",
       "</style>\n",
       "<table border=\"1\" class=\"dataframe\">\n",
       "  <thead>\n",
       "    <tr>\n",
       "      <th></th>\n",
       "      <th>USER_ID</th>\n",
       "      <th colspan=\"4\" halign=\"left\">REVENUE</th>\n",
       "      <th colspan=\"2\" halign=\"left\">per_user</th>\n",
       "    </tr>\n",
       "    <tr>\n",
       "      <th></th>\n",
       "      <th>nunique</th>\n",
       "      <th>sum</th>\n",
       "      <th>mean</th>\n",
       "      <th>median</th>\n",
       "      <th>count</th>\n",
       "      <th>orders</th>\n",
       "      <th>revenue</th>\n",
       "    </tr>\n",
       "    <tr>\n",
       "      <th>VARIANT_NAME</th>\n",
       "      <th></th>\n",
       "      <th></th>\n",
       "      <th></th>\n",
       "      <th></th>\n",
       "      <th></th>\n",
       "      <th></th>\n",
       "      <th></th>\n",
       "    </tr>\n",
       "  </thead>\n",
       "  <tbody>\n",
       "    <tr>\n",
       "      <th>control</th>\n",
       "      <td>53</td>\n",
       "      <td>274.55</td>\n",
       "      <td>5.180189</td>\n",
       "      <td>2.99</td>\n",
       "      <td>53</td>\n",
       "      <td>1.0</td>\n",
       "      <td>5.180189</td>\n",
       "    </tr>\n",
       "    <tr>\n",
       "      <th>variant</th>\n",
       "      <td>42</td>\n",
       "      <td>179.32</td>\n",
       "      <td>4.269524</td>\n",
       "      <td>2.97</td>\n",
       "      <td>42</td>\n",
       "      <td>1.0</td>\n",
       "      <td>4.269524</td>\n",
       "    </tr>\n",
       "  </tbody>\n",
       "</table>\n",
       "</div>"
      ],
      "text/plain": [
       "             USER_ID REVENUE                        per_user          \n",
       "             nunique     sum      mean median count   orders   revenue\n",
       "VARIANT_NAME                                                          \n",
       "control           53  274.55  5.180189   2.99    53      1.0  5.180189\n",
       "variant           42  179.32  4.269524   2.97    42      1.0  4.269524"
      ]
     },
     "execution_count": 185,
     "metadata": {},
     "output_type": "execute_result"
    }
   ],
   "source": [
    "metrics_paid = df.loc[df['REVENUE']!=0].groupby(by='VARIANT_NAME').agg({'USER_ID': 'nunique', 'REVENUE': ['sum', 'mean', 'median', 'count']})\n",
    "orders_per_user_paid = metrics_paid.loc[:, ('REVENUE', 'count')] / metrics_paid.loc[:, ('USER_ID', 'nunique')]\n",
    "revenue_per_user_paid = metrics_paid.loc[:, ('REVENUE', 'sum')] / metrics_paid.loc[:, ('USER_ID', 'nunique')]\n",
    "metrics_paid.loc[:, ('per_user', 'orders')] = orders_per_user_paid\n",
    "metrics_paid.loc[:, ('per_user', 'revenue')] = revenue_per_user_paid\n",
    "metrics_paid"
   ]
  },
  {
   "cell_type": "markdown",
   "id": "b0630b7a",
   "metadata": {},
   "source": [
    "Построим распределение выручки по всем пользователям"
   ]
  },
  {
   "cell_type": "code",
   "execution_count": 187,
   "id": "63f80b26",
   "metadata": {},
   "outputs": [
    {
     "data": {
      "text/plain": [
       "<matplotlib.legend.Legend at 0x19d5d7aada0>"
      ]
     },
     "execution_count": 187,
     "metadata": {},
     "output_type": "execute_result"
    },
    {
     "data": {
      "image/png": "[encoded data removed]",
      "text/plain": [
       "<Figure size 640x480 with 1 Axes>"
      ]
     },
     "metadata": {},
     "output_type": "display_data"
    }
   ],
   "source": [
    "df_control = df[df['VARIANT_NAME']=='control']['REVENUE']\n",
    "df_test = df[df['VARIANT_NAME']=='variant']['REVENUE']\n",
    "sns.histplot(df_control, kde=True, bins=25, label='control')\n",
    "sns.histplot(df_test, kde=True, bins=25, label='test')\n",
    "plt.legend()"
   ]
  },
  {
   "cell_type": "markdown",
   "id": "9dc3d420",
   "metadata": {},
   "source": [
    "Большинство пользователей имеют REVENUE=0. Построим распределение для тех, у кого REVENUE не равно нулю"
   ]
  },
  {
   "cell_type": "code",
   "execution_count": 188,
   "id": "b2783c35",
   "metadata": {},
   "outputs": [
    {
     "data": {
      "text/plain": [
       "<matplotlib.legend.Legend at 0x19d5e8c1300>"
      ]
     },
     "execution_count": 188,
     "metadata": {},
     "output_type": "execute_result"
    },
    {
     "data": {
      "image/png": "[encoded data removed]",
      "text/plain": [
       "<Figure size 640x480 with 1 Axes>"
      ]
     },
     "metadata": {},
     "output_type": "display_data"
    }
   ],
   "source": [
    "df_control_nonzero = df[(df['VARIANT_NAME']=='control') & (df['REVENUE']!=0)]['REVENUE']\n",
    "df_test_nonzero = df[(df['VARIANT_NAME']=='variant') & (df['REVENUE']!=0)]['REVENUE']\n",
    "sns.histplot(df_control_nonzero, bins=20, kde=True, label='control')\n",
    "sns.histplot(df_test_nonzero, bins=20, kde=True, label='test')\n",
    "plt.legend()"
   ]
  },
  {
   "cell_type": "markdown",
   "id": "5be25ec1",
   "metadata": {},
   "source": [
    "Видно, что REVENUE распределена не нормально. Чтобы в этом убедиться, рассмотрим критерий Шапиро-Уилка. Рассмотрим следующие нулевую и альтернативную гипотезы:<br>\n",
    "$H_0$: Выборка из нормального распределения <br>\n",
    "$H_1$: Выборка не из нормального распределения"
   ]
  },
  {
   "cell_type": "code",
   "execution_count": 190,
   "id": "deb3525f",
   "metadata": {},
   "outputs": [
    {
     "data": {
      "text/plain": [
       "ShapiroResult(statistic=0.06145986897942335, pvalue=9.962810723092505e-76)"
      ]
     },
     "execution_count": 190,
     "metadata": {},
     "output_type": "execute_result"
    }
   ],
   "source": [
    "shapiro(df.loc[df.VARIANT_NAME=='variant', 'REVENUE'])"
   ]
  },
  {
   "cell_type": "markdown",
   "id": "66aeb33e",
   "metadata": {},
   "source": [
    "На уровне значимости $\\alpha$=0.05 отвергаем нулевую гипотезу. Таким образом, величины распределены не нормально"
   ]
  },
  {
   "cell_type": "markdown",
   "id": "29677007",
   "metadata": {},
   "source": [
    "Рассмотрим критерий Манна-Уитни"
   ]
  },
  {
   "cell_type": "code",
   "execution_count": 193,
   "id": "61985c90",
   "metadata": {},
   "outputs": [
    {
     "name": "stdout",
     "output_type": "stream",
     "text": [
      "statistic 2845109.0\n",
      "pvalue 0.24799555106821947\n"
     ]
    }
   ],
   "source": [
    "MW_test = mannwhitneyu(df_test, df_control)\n",
    "print('statistic', MW_test[0])\n",
    "print('pvalue', MW_test[1])"
   ]
  },
  {
   "cell_type": "code",
   "execution_count": 194,
   "id": "8268f473",
   "metadata": {},
   "outputs": [
    {
     "name": "stdout",
     "output_type": "stream",
     "text": [
      "statistic 1029.0\n",
      "pvalue 0.5314192217084708\n"
     ]
    }
   ],
   "source": [
    "MW_test_nonzero = mannwhitneyu(df_test_nonzero, df_control_nonzero)\n",
    "print('statistic', MW_test_nonzero[0])\n",
    "print('pvalue', MW_test_nonzero[1])"
   ]
  },
  {
   "cell_type": "markdown",
   "id": "6d5c3e81",
   "metadata": {},
   "source": [
    "Выборки распределены не нормально. Тем не менее центральная предельная теорема дает основания воспользоваться t-тестом"
   ]
  },
  {
   "cell_type": "markdown",
   "id": "a9317553",
   "metadata": {},
   "source": [
    "Обозначим тестовую выборку и контроль за $T$ и $C$ соответственно. Рассмотрим следующие гипотезы:<br>\n",
    "$H_0$: $\\mathop{{}\\mathbb{E}}T$ = $\\mathop{{}\\mathbb{E}}C$ <br>\n",
    "$H_1$: $\\mathop{{}\\mathbb{E}}T$ > $\\mathop{{}\\mathbb{E}}C$"
   ]
  },
  {
   "cell_type": "code",
   "execution_count": 210,
   "id": "0e20015a",
   "metadata": {},
   "outputs": [
    {
     "name": "stdout",
     "output_type": "stream",
     "text": [
      "statistic -1.353347564404142\n",
      "pvalue 0.1760086156257086\n"
     ]
    }
   ],
   "source": [
    "t_test = ttest_ind(df_test, df_control)\n",
    "print('statistic', t_test[0])\n",
    "print('pvalue', t_test[1])"
   ]
  },
  {
   "cell_type": "code",
   "execution_count": 197,
   "id": "f9fb7388",
   "metadata": {},
   "outputs": [
    {
     "name": "stdout",
     "output_type": "stream",
     "text": [
      "statistic -0.7968567151823726\n",
      "pvalue 0.42756390222211027\n"
     ]
    }
   ],
   "source": [
    "t_test_nonzero = ttest_ind(df_test_nonzero, df_control_nonzero)\n",
    "print('statistic', t_test_nonzero[0])\n",
    "print('pvalue', t_test_nonzero[1])"
   ]
  },
  {
   "cell_type": "markdown",
   "id": "74bf880e",
   "metadata": {},
   "source": [
    "На уровне значимости $\\alpha$=0.05 не можем отвергнуть нулевую гипотезу, так как $pvalue>\\alpha$ "
   ]
  },
  {
   "cell_type": "markdown",
   "id": "d2747133",
   "metadata": {},
   "source": [
    "Построим распределение среднего значения выручки, используя bootstrap"
   ]
  },
  {
   "cell_type": "code",
   "execution_count": 201,
   "id": "c17b39d7",
   "metadata": {},
   "outputs": [],
   "source": [
    "def boostrap(control, test):\n",
    "    batch_size = 100\n",
    "    stats_sample = []\n",
    "    boot_samples_size = len(control)\n",
    "    for i in range(0, boot_samples_size, batch_size):\n",
    "        control_sample = np.random.choice(control, size=(len(control), batch_size), replace=True)\n",
    "        test_sample = np.random.choice(test, size=(len(test), batch_size), replace=True)\n",
    "        C = np.mean(control_sample, axis=0)\n",
    "        T = np.mean(test_sample, axis=0)\n",
    "        stats_sample += list([C, T])\n",
    "    return stats_sample\n"
   ]
  },
  {
   "cell_type": "markdown",
   "id": "5ff263df",
   "metadata": {},
   "source": [
    "Распределение среднего REVENUE для всех пользователей"
   ]
  },
  {
   "cell_type": "code",
   "execution_count": null,
   "id": "44347df7",
   "metadata": {},
   "outputs": [
    {
     "data": {
      "text/plain": [
       "<Axes: ylabel='Density'>"
      ]
     },
     "execution_count": 207,
     "metadata": {},
     "output_type": "execute_result"
    },
    {
     "data": {
      "image/png": "[encoded data removed]",
      "text/plain": [
       "<Figure size 640x480 with 1 Axes>"
      ]
     },
     "metadata": {},
     "output_type": "display_data"
    }
   ],
   "source": [
    "control = np.array(df_control)\n",
    "test = np.array(df_test)\n",
    "stats_sample = boostrap(control, test)\n",
    "sns.kdeplot(stats_sample[0], fill=True, label='control')\n",
    "sns.kdeplot(stats_sample[1], fill=True, label='test')"
   ]
  },
  {
   "cell_type": "markdown",
   "id": "b48486ac",
   "metadata": {},
   "source": [
    "Распределение среднего REVENUE только для пользователей, которые совершили покупку"
   ]
  },
  {
   "cell_type": "code",
   "execution_count": 208,
   "id": "bdfe23ee",
   "metadata": {},
   "outputs": [
    {
     "data": {
      "text/plain": [
       "<Axes: ylabel='Density'>"
      ]
     },
     "execution_count": 208,
     "metadata": {},
     "output_type": "execute_result"
    },
    {
     "data": {
      "image/png": "[encoded data removed]",
      "text/plain": [
       "<Figure size 640x480 with 1 Axes>"
      ]
     },
     "metadata": {},
     "output_type": "display_data"
    }
   ],
   "source": [
    "control_nonzero = np.array(df_control_nonzero)\n",
    "test_nonzero = np.array(df_test_nonzero)\n",
    "stats_sample_nonzero = boostrap(control_nonzero, test_nonzero)\n",
    "sns.kdeplot(stats_sample_nonzero[0], fill=True, label='control')\n",
    "sns.kdeplot(stats_sample_nonzero[1], fill=True, label='test')"
   ]
  },
  {
   "cell_type": "markdown",
   "id": "ed4022ff",
   "metadata": {},
   "source": [
    "Видно, что распределения сильно перекрываются, что интуитивно также говорит о неправильности нашей альтернативной гипотезы"
   ]
  },
  {
   "cell_type": "markdown",
   "id": "cb2ce969",
   "metadata": {},
   "source": [
    "В заключение, напишем свою функцию для t-теста и сравним с реализацией в scipy. Свой код может быть полезен для использования в других проектах, так как он обеспечивает большую гибкость"
   ]
  },
  {
   "cell_type": "code",
   "execution_count": 222,
   "id": "c6cd3960",
   "metadata": {},
   "outputs": [],
   "source": [
    "def absolute_ttest(control, test):\n",
    "    mean_control = np.mean(control)\n",
    "    variance_control  = np.var(control) / len(control)\n",
    "\n",
    "    mean_test = np.mean(test)\n",
    "    variance_test = np.var(test)/len(test)\n",
    "\n",
    "    difference_mean = mean_test - mean_control\n",
    "    difference_mean_var  = variance_test + variance_control\n",
    "    \n",
    "    difference_distribution = norm(loc=difference_mean, scale=np.sqrt(difference_mean_var))\n",
    "\n",
    "    left_bound, right_bound = difference_distribution.ppf([0.025, 0.975])\n",
    "    ci_length = (right_bound - left_bound)\n",
    "    pvalue = 2 * min(difference_distribution.cdf(0), difference_distribution.sf(0))\n",
    "    effect = difference_mean\n",
    "    return pvalue, effect, ci_length, left_bound, right_bound"
   ]
  },
  {
   "cell_type": "code",
   "execution_count": 227,
   "id": "4eb3f15a",
   "metadata": {},
   "outputs": [
    {
     "name": "stdout",
     "output_type": "stream",
     "text": [
      "ttest pvalue 0.17596068469551795\n",
      "confidence interval 0.11582634040908572 -0.09790050419826007 0.01792583621082565\n"
     ]
    }
   ],
   "source": [
    "pvalue, effect, ci_length, left_bound, right_bound = absolute_ttest(control, test)\n",
    "print('ttest pvalue', pvalue)\n",
    "print('confidence interval', ci_length, left_bound, right_bound)"
   ]
  },
  {
   "cell_type": "markdown",
   "id": "2e1d4c20",
   "metadata": {},
   "source": [
    "Видно совпадение значения pvalue с реализацией в scipy"
   ]
  },
  {
   "cell_type": "markdown",
   "id": "2a3d3eb1",
   "metadata": {},
   "source": [
    "Реализуем также относительный t-тест"
   ]
  },
  {
   "cell_type": "code",
   "execution_count": null,
   "id": "732ee092",
   "metadata": {},
   "outputs": [],
   "source": [
    "def relative_ttest(control, test):\n",
    "    mean_control = np.mean(control)\n",
    "    variance_control  = np.var(control) / len(control)\n",
    "\n",
    "    mean_test = np.mean(test)\n",
    "    variance_test = np.var(test)/len(test)\n",
    "\n",
    "    difference_mean = mean_test - mean_control\n",
    "    difference_mean_var  = variance_test + variance_control\n",
    "    \n",
    "    covariance = -variance_control\n",
    "\n",
    "    relative_mu = difference_mean / mean_control\n",
    "    relative_var = difference_mean_var / (mean_control ** 2) \\\n",
    "                    + variance_control * ((difference_mean ** 2) / (mean_control ** 4))\\\n",
    "                    - 2 * (difference_mean / (mean_control ** 3)) * covariance\n",
    "    relative_distribution = norm(loc=relative_mu, scale=np.sqrt(relative_var))\n",
    "    left_bound, right_bound = relative_distribution.ppf([0.025, 0.975])\n",
    "    \n",
    "    ci_length = (right_bound - left_bound)\n",
    "    pvalue = 2 * min(relative_distribution.cdf(0), relative_distribution.sf(0))\n",
    "    effect = relative_mu\n",
    "    return pvalue, effect, ci_length, left_bound, right_bound"
   ]
  },
  {
   "cell_type": "code",
   "execution_count": 228,
   "id": "993bee9a",
   "metadata": {},
   "outputs": [
    {
     "name": "stdout",
     "output_type": "stream",
     "text": [
      "ttest pvalue 0.08762090171344905\n",
      "confidence interval 0.7985207608410168 -0.7472106295954871 0.05131013124552963\n"
     ]
    }
   ],
   "source": [
    "pvalue, effect, ci_length, left_bound, right_bound = relative_ttest(control, test)\n",
    "print('ttest pvalue', pvalue)\n",
    "print('confidence interval', ci_length, left_bound, right_bound)"
   ]
  },
  {
   "cell_type": "markdown",
   "id": "6f97e557",
   "metadata": {},
   "source": [
    "Таким образом, был проведен анализ датасета и проведен A/B тест\n"
   ]
  },
  {
   "cell_type": "markdown",
   "id": "63fd1076",
   "metadata": {},
   "source": [
    "Рассматривались две группы пользователей, для группы A фича не вводилась, для группы B вводилась. Гипотеза была в том, что выручка в группе B увеличилась."
   ]
  },
  {
   "cell_type": "markdown",
   "id": "8903ff2b",
   "metadata": {},
   "source": [
    "Результаты оказались статистически не значимы. Ожидаемого прироста выручки от введения фичи не оказалось"
   ]
  }
 ],
 "metadata": {
  "kernelspec": {
   "display_name": "Python 3",
   "language": "python",
   "name": "python3"
  },
  "language_info": {
   "codemirror_mode": {
    "name": "ipython",
    "version": 3
   },
   "file_extension": ".py",
   "mimetype": "text/x-python",
   "name": "python",
   "nbconvert_exporter": "python",
   "pygments_lexer": "ipython3",
   "version": "3.10.7"
  }
 },
 "nbformat": 4,
 "nbformat_minor": 5
}
